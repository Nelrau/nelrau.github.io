{
 "cells": [
  {
   "cell_type": "code",
   "execution_count": 29,
   "metadata": {},
   "outputs": [
    {
     "name": "stdout",
     "output_type": "stream",
     "text": [
      " * Serving Flask app '__main__'\n",
      " * Debug mode: off\n"
     ]
    },
    {
     "name": "stderr",
     "output_type": "stream",
     "text": [
      "WARNING: This is a development server. Do not use it in a production deployment. Use a production WSGI server instead.\n",
      " * Running on http://127.0.0.1:5000\n",
      "Press CTRL+C to quit\n"
     ]
    },
    {
     "name": "stderr",
     "output_type": "stream",
     "text": [
      "127.0.0.1 - - [23/Sep/2023 05:25:48] \"GET / HTTP/1.1\" 200 -\n",
      "127.0.0.1 - - [23/Sep/2023 05:26:00] \"POST / HTTP/1.1\" 200 -\n",
      "127.0.0.1 - - [23/Sep/2023 05:26:06] \"GET /uarlenjo HTTP/1.1\" 302 -\n",
      "127.0.0.1 - - [23/Sep/2023 05:45:08] \"GET / HTTP/1.1\" 200 -\n",
      "127.0.0.1 - - [23/Sep/2023 05:45:50] \"POST / HTTP/1.1\" 200 -\n",
      "127.0.0.1 - - [23/Sep/2023 05:46:04] \"GET /youtube HTTP/1.1\" 302 -\n"
     ]
    }
   ],
   "source": [
    "from flask import Flask, render_template, url_for, request, redirect\n",
    "import socket\n",
    "\n",
    "app = Flask(__name__)\n",
    "\n",
    "link = {}\n",
    "@app.route('/', methods=['GET', 'POST'])\n",
    "def homepage():\n",
    "  if request.method == 'POST':\n",
    "    link_original = request.form['link_original']\n",
    "    caminho_link = request.form['caminho_link']\n",
    "    link[caminho_link] = link_original\n",
    "    #caminho do link\n",
    "    return f'seu link é {request.url_root}{caminho_link}'\n",
    "  \n",
    "\n",
    "  else:\n",
    "    return render_template('index.html')\n",
    "\n",
    "#redicionamento\n",
    "@app.route('/<caminho_link>')# entre <> o caminho original do usuario\n",
    "def redirecionar(caminho_link):\n",
    "   #verifica se tem um endereço original valido\n",
    "  link_original = link.get(caminho_link)\n",
    "  if link_original:\n",
    "    return redirect(link_original) # redireciona ao link original\n",
    "  else:\n",
    "    return 'endereço invalido', 404\n",
    "\n",
    "\n",
    "\n",
    "# erro do porta\n",
    "def is_port_available(port):\n",
    "    try:\n",
    "        # Tenta criar um soquete na porta desejada\n",
    "        with socket.socket(socket.AF_INET, socket.SOCK_STREAM) as s:\n",
    "            s.bind((\"127.0.0.1\", port))\n",
    "        return True\n",
    "    except OSError:\n",
    "        return False\n",
    "    \n",
    "if __name__ == '__main__':\n",
    "    port = 5000  # Porta desejada\n",
    "    if is_port_available(port):\n",
    "        app.run(port=port)\n",
    "    else:\n",
    "        print(f\"A porta {port} já está em uso por outra aplicação.\")"
   ]
  }
 ],
 "metadata": {
  "kernelspec": {
   "display_name": "Python 3",
   "language": "python",
   "name": "python3"
  },
  "language_info": {
   "codemirror_mode": {
    "name": "ipython",
    "version": 3
   },
   "file_extension": ".py",
   "mimetype": "text/x-python",
   "name": "python",
   "nbconvert_exporter": "python",
   "pygments_lexer": "ipython3",
   "version": "3.11.4"
  },
  "orig_nbformat": 4
 },
 "nbformat": 4,
 "nbformat_minor": 2
}
